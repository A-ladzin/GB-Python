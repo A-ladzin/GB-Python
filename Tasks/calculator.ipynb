{
 "cells": [
  {
   "cell_type": "code",
   "execution_count": 12,
   "metadata": {},
   "outputs": [
    {
     "ename": "TypeError",
     "evalue": "Can't instantiate abstract class Piece with abstract method move",
     "output_type": "error",
     "traceback": [
      "\u001b[1;31m---------------------------------------------------------------------------\u001b[0m",
      "\u001b[1;31mTypeError\u001b[0m                                 Traceback (most recent call last)",
      "\u001b[1;32mc:\\Gb\\GB-Python\\Tasks\\calculator.ipynb Cell 1\u001b[0m line \u001b[0;36m<cell line: 7>\u001b[1;34m()\u001b[0m\n\u001b[0;32m      <a href='vscode-notebook-cell:/c%3A/Gb/GB-Python/Tasks/calculator.ipynb#X10sZmlsZQ%3D%3D?line=2'>3</a>\u001b[0m     \u001b[39m@abstractmethod\u001b[39m\n\u001b[0;32m      <a href='vscode-notebook-cell:/c%3A/Gb/GB-Python/Tasks/calculator.ipynb#X10sZmlsZQ%3D%3D?line=3'>4</a>\u001b[0m     \u001b[39mdef\u001b[39;00m \u001b[39mmove\u001b[39m(\u001b[39mself\u001b[39m):\n\u001b[0;32m      <a href='vscode-notebook-cell:/c%3A/Gb/GB-Python/Tasks/calculator.ipynb#X10sZmlsZQ%3D%3D?line=4'>5</a>\u001b[0m         \u001b[39mpass\u001b[39;00m\n\u001b[1;32m----> <a href='vscode-notebook-cell:/c%3A/Gb/GB-Python/Tasks/calculator.ipynb#X10sZmlsZQ%3D%3D?line=6'>7</a>\u001b[0m a \u001b[39m=\u001b[39m Piece()\n",
      "\u001b[1;31mTypeError\u001b[0m: Can't instantiate abstract class Piece with abstract method move"
     ]
    }
   ],
   "source": [
    "from abc import ABC, abstractmethod\n",
    "class Piece(ABC):\n",
    "    @abstractmethod\n",
    "    def move(self):\n",
    "        pass\n",
    "    \n",
    "a = Piece()"
   ]
  },
  {
   "cell_type": "code",
   "execution_count": 1,
   "metadata": {},
   "outputs": [
    {
     "data": {
      "text/plain": [
       "6.4"
      ]
     },
     "execution_count": 1,
     "metadata": {},
     "output_type": "execute_result"
    }
   ],
   "source": [
    "\n",
    "\n",
    "string = input(\"Enter an Expression: \")\n",
    "\n",
    "def error():\n",
    "    print(\"Something Went Wrong\")\n",
    "    return None\n",
    "\n",
    "def parser(string):\n",
    "    num = False\n",
    "    sign = False\n",
    "    point = False\n",
    "    point_position = 1\n",
    "    temp = 0\n",
    "    priority = 0\n",
    "    index = -1\n",
    "    for ch in string:\n",
    "        if ch > chr(47) and ch < chr(58):\n",
    "            if num:\n",
    "                if point:\n",
    "                    point_position *= 10\n",
    "                else:\n",
    "                    temp *=10\n",
    "            else:\n",
    "                num = not num\n",
    "            temp += float(ch)/point_position\n",
    "        else:\n",
    "            if num:\n",
    "                index+=1\n",
    "                num = not num\n",
    "                if sign:\n",
    "                    temp *=-1\n",
    "                    sign = False\n",
    "                if ch == '.':\n",
    "                    point = True\n",
    "                    num = not num\n",
    "                    continue\n",
    "                numbers.append(temp)\n",
    "                \n",
    "            if ch == '*':\n",
    "                    operations.append(((lambda x,y:x*y), 1+priority*3, index))\n",
    "            elif ch == '+':\n",
    "                    operations.append(((lambda x,y:x+y), 0+priority*3,index))\n",
    "            elif ch == '-':\n",
    "                    operations.append(((lambda x,y:x-y), 0+priority*3,index))\n",
    "            elif ch == '/':\n",
    "                    operations.append(((lambda x,y:x/y), 1+priority*3,index))\n",
    "            elif ch == '^':\n",
    "                    operations.append(((lambda x,y:x**y), 2+priority*3,index))\n",
    "            elif ch == ' ':\n",
    "                continue\n",
    "            elif ch == '-':\n",
    "                sign = True\n",
    "            elif ch == '(':\n",
    "                    priority+=1\n",
    "            elif ch == ')':\n",
    "                    priority-=1\n",
    "            if priority < 0:\n",
    "                return error()\n",
    "            point = False\n",
    "            point_position = 1\n",
    "            temp = 0\n",
    "    if (num):\n",
    "        if(sign):\n",
    "            temp *=-1\n",
    "        numbers.append(temp)\n",
    "    if priority != 0:\n",
    "        return error()\n",
    "    operations.sort(key = lambda x:x[1], reverse = True)\n",
    "\n",
    "\n",
    "\n",
    "def calculate():\n",
    "    for op in operations:\n",
    "        numbers[op[2]] = op[0](numbers[op[2]], numbers[op[2]+1])\n",
    "        numbers[op[2]+1] = numbers[op[2]]\n",
    "    return numbers[operations[-1][2]]\n",
    "\n",
    "\n",
    "operations = []\n",
    "numbers = []\n",
    "parser(string)\n",
    "calculate()"
   ]
  },
  {
   "cell_type": "code",
   "execution_count": null,
   "metadata": {},
   "outputs": [],
   "source": []
  },
  {
   "cell_type": "code",
   "execution_count": 126,
   "metadata": {},
   "outputs": [
    {
     "data": {
      "text/plain": [
       "8.0"
      ]
     },
     "execution_count": 126,
     "metadata": {},
     "output_type": "execute_result"
    }
   ],
   "source": [
    "string = ''\n"
   ]
  },
  {
   "cell_type": "code",
   "execution_count": 27,
   "metadata": {},
   "outputs": [
    {
     "data": {
      "text/plain": [
       "1"
      ]
     },
     "execution_count": 27,
     "metadata": {},
     "output_type": "execute_result"
    }
   ],
   "source": [
    "operations.get().priority"
   ]
  },
  {
   "cell_type": "code",
   "execution_count": 7,
   "metadata": {},
   "outputs": [],
   "source": [
    "\n",
    "from time import perf_counter"
   ]
  },
  {
   "cell_type": "code",
   "execution_count": 148,
   "metadata": {},
   "outputs": [
    {
     "data": {
      "text/plain": [
       "3.1525215000147"
      ]
     },
     "execution_count": 148,
     "metadata": {},
     "output_type": "execute_result"
    }
   ],
   "source": [
    "start = perf_counter()\n",
    "string = ('1/55*5*(100+50)*1000*1000/50000')\n",
    "operations = []\n",
    "for i in range(100000):\n",
    "    operations = []\n",
    "    numbers = []\n",
    "    parser(string)\n",
    "    calculate()\n",
    "end = perf_counter()\n",
    "end-start\n",
    "\n"
   ]
  },
  {
   "cell_type": "code",
   "execution_count": 149,
   "metadata": {},
   "outputs": [
    {
     "data": {
      "text/plain": [
       "2.0334442999446765"
      ]
     },
     "execution_count": 149,
     "metadata": {},
     "output_type": "execute_result"
    }
   ],
   "source": [
    "start = perf_counter()\n",
    "for i in range(100000):\n",
    "    eval(string)\n",
    "end = perf_counter()\n",
    "end - start\n",
    "\n",
    "\n"
   ]
  }
 ],
 "metadata": {
  "kernelspec": {
   "display_name": "Python 3",
   "language": "python",
   "name": "python3"
  },
  "language_info": {
   "codemirror_mode": {
    "name": "ipython",
    "version": 3
   },
   "file_extension": ".py",
   "mimetype": "text/x-python",
   "name": "python",
   "nbconvert_exporter": "python",
   "pygments_lexer": "ipython3",
   "version": "3.10.5"
  }
 },
 "nbformat": 4,
 "nbformat_minor": 2
}
