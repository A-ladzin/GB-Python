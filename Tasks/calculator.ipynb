{
 "cells": [
  {
   "cell_type": "code",
   "execution_count": 39,
   "metadata": {},
   "outputs": [
    {
     "name": "stdout",
     "output_type": "stream",
     "text": [
      "3.0\n"
     ]
    }
   ],
   "source": [
    "\n",
    "string = input(\"Enter an Expression: \")\n",
    "expressions = []\n",
    "numbers = []\n",
    "\n",
    "def error():\n",
    "    print(\"Something Went Wrong\")\n",
    "    return None\n",
    "\n",
    "def parser(string):\n",
    "    num = False\n",
    "    sign = False\n",
    "    point = False\n",
    "    point_position = 1\n",
    "    temp = 0\n",
    "    priority = 0\n",
    "    for ch in string:\n",
    "        if ch > chr(47) and ch < chr(58):\n",
    "            if num:\n",
    "                if point:\n",
    "                    point_position *= 10\n",
    "                else:\n",
    "                    temp *=10\n",
    "            else:\n",
    "                num = not num\n",
    "            temp += float(ch)/point_position\n",
    "        else:\n",
    "            if num:\n",
    "                num = not num\n",
    "                if sign:\n",
    "                    temp *=-1\n",
    "                    sign = False\n",
    "                if ch == '.':\n",
    "                    point = True\n",
    "                    num = not num\n",
    "                    continue\n",
    "                numbers.append(temp)\n",
    "                \n",
    "            if ch == '*':\n",
    "                    expressions.append(((lambda x,y:x*y), 1+priority*3))\n",
    "            elif ch == '+':\n",
    "                    expressions.append(((lambda x,y:x+y), 0+priority*3))\n",
    "            elif ch == '-':\n",
    "                    expressions.append(((lambda x,y:x-y), 0+priority*3))\n",
    "            elif ch == '/':\n",
    "                    expressions.append(((lambda x,y:x/y), 1+priority*3))\n",
    "            elif ch == '^':\n",
    "                    expressions.append(((lambda x,y:x**y), 2+priority*3))\n",
    "            elif ch == ' ':\n",
    "                continue\n",
    "            elif ch == '-':\n",
    "                sign = True\n",
    "            elif ch == '(':\n",
    "                    priority+=1\n",
    "            elif ch == ')':\n",
    "                    priority-=1\n",
    "            if priority < 0:\n",
    "                return error()\n",
    "            point = False\n",
    "            point_position = 1\n",
    "\n",
    "            temp = 0\n",
    "    if (num):\n",
    "        if(sign):\n",
    "            temp *=-1\n",
    "        numbers.append(temp)\n",
    "    if priority != 0:\n",
    "        return error()\n",
    "    \n",
    "\n",
    "def calculate(priority = -1):\n",
    "    second_number = numbers.pop()\n",
    "    if not expressions:\n",
    "        return second_number\n",
    "    if priority < expressions[-1][1]:\n",
    "        while expressions:\n",
    "            expr = expressions.pop()\n",
    "            second_number = expr[0](calculate(expr[1]), second_number)\n",
    "    return second_number\n",
    "\n",
    "        \n",
    "    \n",
    "                "
   ]
  },
  {
   "cell_type": "code",
   "execution_count": 42,
   "metadata": {},
   "outputs": [
    {
     "name": "stdout",
     "output_type": "stream",
     "text": [
      "6.0\n"
     ]
    }
   ],
   "source": [
    "parser('2+2*2')\n",
    "\n",
    "print(calculate()) \n",
    "    "
   ]
  },
  {
   "cell_type": "code",
   "execution_count": 46,
   "metadata": {},
   "outputs": [
    {
     "name": "stdout",
     "output_type": "stream",
     "text": [
      "8.0\n"
     ]
    }
   ],
   "source": [
    "parser('(2+2)*2')\n",
    "print(calculate())"
   ]
  },
  {
   "cell_type": "code",
   "execution_count": 53,
   "metadata": {},
   "outputs": [
    {
     "data": {
      "text/plain": [
       "72.0"
      ]
     },
     "execution_count": 53,
     "metadata": {},
     "output_type": "execute_result"
    }
   ],
   "source": [
    "parser('(2+2*2)^2*2')\n",
    "calculate()"
   ]
  }
 ],
 "metadata": {
  "kernelspec": {
   "display_name": "Python 3",
   "language": "python",
   "name": "python3"
  },
  "language_info": {
   "codemirror_mode": {
    "name": "ipython",
    "version": 3
   },
   "file_extension": ".py",
   "mimetype": "text/x-python",
   "name": "python",
   "nbconvert_exporter": "python",
   "pygments_lexer": "ipython3",
   "version": "3.10.5"
  }
 },
 "nbformat": 4,
 "nbformat_minor": 2
}
