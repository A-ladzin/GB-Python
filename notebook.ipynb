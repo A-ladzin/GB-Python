{
 "cells": [
  {
   "cell_type": "code",
   "execution_count": 23,
   "metadata": {},
   "outputs": [
    {
     "name": "stdout",
     "output_type": "stream",
     "text": [
      "[]\n"
     ]
    }
   ],
   "source": [
    "k = int(input(\"Enter k\"))\n",
    "friendlies = []\n",
    "\n",
    "\n",
    "def sum_of_divs(n):\n",
    "    sum = 0\n",
    "    for i in range(1,int(n)//2+1):\n",
    "        if n % i == 0:\n",
    "            sum += i\n",
    "    return sum\n",
    "            \n",
    "            \n",
    "def check_friendlies(n1,n2):\n",
    "\n",
    "    sum_of_divs1 = sum_of_divs(n1)\n",
    "    sum_of_divs2 = sum_of_divs(n2)\n",
    "    if sum_of_divs1 == n2 and sum_of_divs2 == n1:\n",
    "        return (n1,n2)\n",
    "    return None\n",
    "\n",
    "                \n",
    "\n",
    "for i in range(1,k+1):\n",
    "    for j in range(1,i):\n",
    "        checked = check_friendlies(i,j)\n",
    "        if checked != None:\n",
    "            friendlies.append(checked)\n",
    "            \n",
    "print(friendlies)"
   ]
  },
  {
   "cell_type": "code",
   "execution_count": 7,
   "metadata": {},
   "outputs": [
    {
     "data": {
      "text/plain": [
       "[1, 2, 3, 4]"
      ]
     },
     "execution_count": 7,
     "metadata": {},
     "output_type": "execute_result"
    }
   ],
   "source": [
    "values = [1,2,3,4]\n",
    "transformed_values = list(map(lambda x: x, values))\n",
    "transformed_values"
   ]
  },
  {
   "cell_type": "code",
   "execution_count": 25,
   "metadata": {},
   "outputs": [
    {
     "data": {
      "text/plain": [
       "'same'"
      ]
     },
     "execution_count": 25,
     "metadata": {},
     "output_type": "execute_result"
    }
   ],
   "source": [
    "from functools import reduce\n",
    "def is_same(func,values):\n",
    "    return 'same' * reduce(lambda x,y: x == func(y),values, 1)+ ((1-reduce(lambda x,y: x == func(y),values,1))*'different')\n",
    "\n",
    "a = [2,4,6,8]\n",
    "\n",
    "is_same(lambda x: x%2==0,a)"
   ]
  },
  {
   "cell_type": "code",
   "execution_count": 46,
   "metadata": {},
   "outputs": [
    {
     "data": {
      "text/plain": [
       "1"
      ]
     },
     "execution_count": 46,
     "metadata": {},
     "output_type": "execute_result"
    }
   ],
   "source": [
    "a = [False,False]\n",
    "\n",
    "all(a) + (not any(a))"
   ]
  },
  {
   "cell_type": "code",
   "execution_count": 19,
   "metadata": {},
   "outputs": [
    {
     "data": {
      "text/plain": [
       "(2.5, 10)"
      ]
     },
     "execution_count": 19,
     "metadata": {},
     "output_type": "execute_result"
    }
   ],
   "source": [
    "import math\n",
    "def find_farthest_orbit(list_of_orbits):\n",
    "    return max(list(filter(lambda x: x[0] != x[1],list_of_orbits)), key = lambda x: math.pi*x[0]*x[1])\n",
    "\n",
    "find_farthest_orbit([(1, 3), (2.5, 10), (7, 2), (6, 6), (4, 3)])\n"
   ]
  },
  {
   "cell_type": "code",
   "execution_count": 84,
   "metadata": {},
   "outputs": [],
   "source": [
    "import numpy as np\n",
    "\n",
    "def print_array(func):\n",
    "    def inner(*args):\n",
    "        tasks = func(*args)\n",
    "        result = None\n",
    "        for task in tasks:\n",
    "            result = task\n",
    "            print(\"###\")\n",
    "            print(task)\n",
    "            print(\"###\")\n",
    "            \n",
    "        return result\n",
    "    return inner\n",
    "            \n",
    "\n",
    "@print_array\n",
    "def math_task(data):\n",
    "        answer = [i**3 for i in data]\n",
    "        yield answer\n",
    "        answer = list(map(lambda x: x%7, answer))\n",
    "        yield answer\n",
    "        answer = list(np.sum((answer,data), axis = 0))\n",
    "        yield answer\n",
    "\n"
   ]
  },
  {
   "cell_type": "code",
   "execution_count": 85,
   "metadata": {},
   "outputs": [
    {
     "name": "stdout",
     "output_type": "stream",
     "text": [
      "###\n",
      "[27, 125, 512, 8]\n",
      "###\n",
      "###\n",
      "[6, 6, 1, 1]\n",
      "###\n",
      "###\n",
      "[9, 11, 9, 3]\n",
      "###\n",
      "###\n",
      "[1, 2, 3]\n",
      "###\n",
      "###\n",
      "[9, 11, 9, 3]\n",
      "###\n"
     ]
    },
    {
     "data": {
      "text/plain": [
       "[9, 11, 9, 3]"
      ]
     },
     "execution_count": 85,
     "metadata": {},
     "output_type": "execute_result"
    }
   ],
   "source": [
    "\n",
    "data = [3,5,8,2]\n",
    "math_task(data)"
   ]
  }
 ],
 "metadata": {
  "kernelspec": {
   "display_name": "Python 3",
   "language": "python",
   "name": "python3"
  },
  "language_info": {
   "codemirror_mode": {
    "name": "ipython",
    "version": 3
   },
   "file_extension": ".py",
   "mimetype": "text/x-python",
   "name": "python",
   "nbconvert_exporter": "python",
   "pygments_lexer": "ipython3",
   "version": "3.12.0"
  }
 },
 "nbformat": 4,
 "nbformat_minor": 2
}
